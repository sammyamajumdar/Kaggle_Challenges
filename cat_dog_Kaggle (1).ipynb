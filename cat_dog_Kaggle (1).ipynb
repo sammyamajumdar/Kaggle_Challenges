{
  "nbformat": 4,
  "nbformat_minor": 0,
  "metadata": {
    "colab": {
      "name": "cat_dog_Kaggle.ipynb",
      "provenance": []
    },
    "kernelspec": {
      "name": "python3",
      "display_name": "Python 3"
    },
    "accelerator": "GPU"
  },
  "cells": [
    {
      "cell_type": "code",
      "metadata": {
        "id": "d3VmUTDIGiqT",
        "colab_type": "code",
        "colab": {
          "base_uri": "https://localhost:8080/",
          "height": 204
        },
        "outputId": "62fe43f6-74ca-4f23-b6d3-7504384ad676"
      },
      "source": [
        "!pip install kaggle"
      ],
      "execution_count": null,
      "outputs": [
        {
          "output_type": "stream",
          "text": [
            "Requirement already satisfied: kaggle in /usr/local/lib/python3.6/dist-packages (1.5.6)\n",
            "Requirement already satisfied: urllib3<1.25,>=1.21.1 in /usr/local/lib/python3.6/dist-packages (from kaggle) (1.24.3)\n",
            "Requirement already satisfied: six>=1.10 in /usr/local/lib/python3.6/dist-packages (from kaggle) (1.15.0)\n",
            "Requirement already satisfied: python-dateutil in /usr/local/lib/python3.6/dist-packages (from kaggle) (2.8.1)\n",
            "Requirement already satisfied: python-slugify in /usr/local/lib/python3.6/dist-packages (from kaggle) (4.0.1)\n",
            "Requirement already satisfied: certifi in /usr/local/lib/python3.6/dist-packages (from kaggle) (2020.6.20)\n",
            "Requirement already satisfied: requests in /usr/local/lib/python3.6/dist-packages (from kaggle) (2.23.0)\n",
            "Requirement already satisfied: tqdm in /usr/local/lib/python3.6/dist-packages (from kaggle) (4.41.1)\n",
            "Requirement already satisfied: text-unidecode>=1.3 in /usr/local/lib/python3.6/dist-packages (from python-slugify->kaggle) (1.3)\n",
            "Requirement already satisfied: idna<3,>=2.5 in /usr/local/lib/python3.6/dist-packages (from requests->kaggle) (2.10)\n",
            "Requirement already satisfied: chardet<4,>=3.0.2 in /usr/local/lib/python3.6/dist-packages (from requests->kaggle) (3.0.4)\n"
          ],
          "name": "stdout"
        }
      ]
    },
    {
      "cell_type": "code",
      "metadata": {
        "id": "6JXYwHPlGitK",
        "colab_type": "code",
        "colab": {
          "resources": {
            "http://localhost:8080/nbextensions/google.colab/files.js": {
              "data": "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",
              "ok": true,
              "headers": [
                [
                  "content-type",
                  "application/javascript"
                ]
              ],
              "status": 200,
              "status_text": ""
            }
          },
          "base_uri": "https://localhost:8080/",
          "height": 89
        },
        "outputId": "45bc60bf-ba5a-4c92-ae77-2f25dd97588b"
      },
      "source": [
        "from google.colab import files\n",
        "files.upload()"
      ],
      "execution_count": null,
      "outputs": [
        {
          "output_type": "display_data",
          "data": {
            "text/html": [
              "\n",
              "     <input type=\"file\" id=\"files-72b3b00a-7e5f-4c88-bd41-3bb67de5be40\" name=\"files[]\" multiple disabled\n",
              "        style=\"border:none\" />\n",
              "     <output id=\"result-72b3b00a-7e5f-4c88-bd41-3bb67de5be40\">\n",
              "      Upload widget is only available when the cell has been executed in the\n",
              "      current browser session. Please rerun this cell to enable.\n",
              "      </output>\n",
              "      <script src=\"/nbextensions/google.colab/files.js\"></script> "
            ],
            "text/plain": [
              "<IPython.core.display.HTML object>"
            ]
          },
          "metadata": {
            "tags": []
          }
        },
        {
          "output_type": "stream",
          "text": [
            "Saving kaggle.json to kaggle.json\n"
          ],
          "name": "stdout"
        },
        {
          "output_type": "execute_result",
          "data": {
            "text/plain": [
              "{'kaggle.json': b'{\"username\":\"sammyamajumdar\",\"key\":\"8bed6789a501534ffe03f24b72485d0b\"}'}"
            ]
          },
          "metadata": {
            "tags": []
          },
          "execution_count": 2
        }
      ]
    },
    {
      "cell_type": "code",
      "metadata": {
        "id": "m3FHCSsJILnu",
        "colab_type": "code",
        "colab": {}
      },
      "source": [
        "!mkdir -p ~/.kaggle\n",
        "!cp kaggle.json ~/.kaggle/"
      ],
      "execution_count": null,
      "outputs": []
    },
    {
      "cell_type": "code",
      "metadata": {
        "id": "cRZSK3LQIlGQ",
        "colab_type": "code",
        "colab": {}
      },
      "source": [
        "!chmod 600 ~/.kaggle/kaggle.json"
      ],
      "execution_count": null,
      "outputs": []
    },
    {
      "cell_type": "code",
      "metadata": {
        "id": "CGPOT3u_IyGo",
        "colab_type": "code",
        "colab": {
          "base_uri": "https://localhost:8080/",
          "height": 187
        },
        "outputId": "d3f7b8b7-35f8-48ab-a5cd-21c241bc7661"
      },
      "source": [
        "!kaggle competitions download -c dogs-vs-cats"
      ],
      "execution_count": null,
      "outputs": [
        {
          "output_type": "stream",
          "text": [
            "Warning: Looks like you're using an outdated API Version, please consider updating (server 1.5.6 / client 1.5.4)\n",
            "Downloading train.zip to /content\n",
            " 97% 526M/543M [00:06<00:00, 88.1MB/s]\n",
            "100% 543M/543M [00:06<00:00, 89.2MB/s]\n",
            "Downloading sampleSubmission.csv to /content\n",
            "  0% 0.00/86.8k [00:00<?, ?B/s]\n",
            "100% 86.8k/86.8k [00:00<00:00, 78.5MB/s]\n",
            "Downloading test1.zip to /content\n",
            " 98% 265M/271M [00:05<00:00, 28.5MB/s]\n",
            "100% 271M/271M [00:05<00:00, 52.5MB/s]\n"
          ],
          "name": "stdout"
        }
      ]
    },
    {
      "cell_type": "code",
      "metadata": {
        "id": "WSCIx7BdJNjK",
        "colab_type": "code",
        "colab": {
          "base_uri": "https://localhost:8080/",
          "height": 51
        },
        "outputId": "ce685578-9261-4496-d417-0ce10df70e63"
      },
      "source": [
        "from zipfile import ZipFile\n",
        "file_name = \"test1.zip\"\n",
        "with ZipFile(file_name) as zip:\n",
        "    zip.extractall()\n",
        "    print(\"Done extracting test set!\")\n",
        "file_name = \"train.zip\"\n",
        "with ZipFile(file_name) as zip:\n",
        "    zip.extractall()\n",
        "    print(\"Done extracting train set!\")"
      ],
      "execution_count": null,
      "outputs": [
        {
          "output_type": "stream",
          "text": [
            "Done extracting test set!\n",
            "Done extracting train set!\n"
          ],
          "name": "stdout"
        }
      ]
    },
    {
      "cell_type": "code",
      "metadata": {
        "id": "TwR_9eVEKF8k",
        "colab_type": "code",
        "colab": {}
      },
      "source": [
        "import os, shutil\n",
        "original_dataset_dir = \"/content/train\"\n",
        "base_dir = \"/content/\"\n",
        "\n",
        "train_dir = os.path.join(base_dir, \"train_dir\")\n",
        "os.mkdir(train_dir)\n",
        "validation_new_dir = os.path.join(base_dir, \"validation_new_dir\")\n",
        "os.mkdir(validation_new_dir)\n",
        "test_dir = \"/content/test1\" \n",
        "\n",
        "train_cats_dir = os.path.join(train_dir, \"train_cats_dir\")\n",
        "os.mkdir(train_cats_dir)\n",
        "validation_new_cats_dir = os.path.join(validation_new_dir, \"validation_new_cats_dir\")\n",
        "os.mkdir(validation_new_cats_dir)\n",
        "\n",
        "train_dogs_dir = os.path.join(train_dir, \"train_dogs_dir\")\n",
        "os.mkdir(train_dogs_dir)\n",
        "validation_new_dogs_dir = os.path.join(validation_new_dir, \"validation_new_dogs_dir\")\n",
        "os.mkdir(validation_new_dogs_dir)\n",
        "\n",
        "train_dir = \"/content/train_dir\"\n",
        "validation_dir = \"/content/validation_new_dir\"\n",
        "train_cats_dir = \"/content/train_dir/train_cats_dir\"\n",
        "train_dogs_dir = \"/content/train_dir/train_dogs_dir\"\n",
        "validation_cats_dir = \"/content/validation_new_dir/validation_new_cats_dir\"\n",
        "validation_dogs_dir = \"/content/validation_new_dir/validation_new_dogs_dir\"\n",
        "\n",
        "fname = [f\"cat.{i}.jpg\" for i in range(2500)]\n",
        "for i in fname:\n",
        "    try:\n",
        "        src = os.path.join(original_dataset_dir, i)\n",
        "        dst = os.path.join(validation_new_cats_dir, i)\n",
        "        shutil.copyfile(src, dst)\n",
        "    except:\n",
        "        pass\n",
        "fname2 = [f\"cat.{j}.jpg\" for j in range(2500,12500)]\n",
        "for j in fname2:\n",
        "    try:\n",
        "        src = os.path.join(original_dataset_dir, j)\n",
        "        dst = os.path.join(train_cats_dir, j)\n",
        "        shutil.copyfile(src, dst)\n",
        "    except:\n",
        "        pass\n",
        "fname3 = [f\"dog.{i}.jpg\" for i in range(2500)]\n",
        "for k in fname3:\n",
        "        src = os.path.join(original_dataset_dir, k)\n",
        "        dst = os.path.join(validation_new_dogs_dir, k)\n",
        "        shutil.copyfile(src, dst)\n",
        "fname4 = [f\"dog.{k}\" for k in range(2500, 12500)]\n",
        "for l in fname4:\n",
        "        src = os.path.join(original_dataset_dir, l)\n",
        "        dst = os.path.join(train_dogs_dir, l)\n",
        "        shutil.copyfile(src, dst)"
      ],
      "execution_count": null,
      "outputs": []
    },
    {
      "cell_type": "code",
      "metadata": {
        "id": "eLr6SG-ZS6uv",
        "colab_type": "code",
        "colab": {}
      },
      "source": [
        "print(len(os.listdir(train_dogs_dir)))\n",
        "fname5 = [f\"dog.{i}.jpg\" for i in range(2501,12500)]\n",
        "for l in fname5:\n",
        "        src = os.path.join(original_dataset_dir, l)\n",
        "        dst = os.path.join(train_dogs_dir, l)\n",
        "        shutil.copyfile(src, dst)\n"
      ],
      "execution_count": null,
      "outputs": []
    },
    {
      "cell_type": "code",
      "metadata": {
        "id": "b2lLERFmTnCE",
        "colab_type": "code",
        "colab": {
          "base_uri": "https://localhost:8080/",
          "height": 34
        },
        "outputId": "14357c1f-60e6-45d5-a970-a73be5465ff0"
      },
      "source": [
        "print(len(os.listdir(train_dogs_dir)))"
      ],
      "execution_count": null,
      "outputs": [
        {
          "output_type": "stream",
          "text": [
            "9999\n"
          ],
          "name": "stdout"
        }
      ]
    },
    {
      "cell_type": "code",
      "metadata": {
        "id": "6AlU-JRPMtBQ",
        "colab_type": "code",
        "colab": {
          "base_uri": "https://localhost:8080/",
          "height": 68
        },
        "outputId": "63113bf2-e5e6-4c77-b930-3a944e746570"
      },
      "source": [
        "test_dir = \"/content/test1\"\n",
        "print(f\"Total number of training examples : {len(os.listdir(train_cats_dir)) + len(os.listdir(train_dogs_dir))}\")\n",
        "print(f\"Total number of testing examples : {len(os.listdir(test_dir))}\")\n",
        "print(f\"Total number of validation examples : {len(os.listdir(validation_new_cats_dir)) + len(os.listdir(validation_new_dogs_dir))}\")"
      ],
      "execution_count": null,
      "outputs": [
        {
          "output_type": "stream",
          "text": [
            "Total number of training examples : 19999\n",
            "Total number of testing examples : 12500\n",
            "Total number of validation examples : 5000\n"
          ],
          "name": "stdout"
        }
      ]
    },
    {
      "cell_type": "code",
      "metadata": {
        "id": "JeDGszKkTyoP",
        "colab_type": "code",
        "colab": {}
      },
      "source": [
        "import tensorflow as tf\n",
        "from tensorflow.keras.preprocessing.image import ImageDataGenerator\n",
        "from tensorflow.keras.optimizers import Adam\n",
        "import matplotlib.pyplot as plt"
      ],
      "execution_count": null,
      "outputs": []
    },
    {
      "cell_type": "code",
      "metadata": {
        "id": "_N5RpAv4Ueze",
        "colab_type": "code",
        "colab": {
          "base_uri": "https://localhost:8080/",
          "height": 561
        },
        "outputId": "89c87806-98cc-4410-962f-34838d0c4c73"
      },
      "source": [
        "def create_model():\n",
        "    network = tf.keras.models.Sequential([\n",
        "        tf.keras.layers.Conv2D(32, (3,3), activation = \"relu\", input_shape = (150,150,3)),\n",
        "        tf.keras.layers.MaxPooling2D(2,2),\n",
        "        \n",
        "        tf.keras.layers.Conv2D(64, (3,3), activation = \"relu\"),\n",
        "        tf.keras.layers.MaxPooling2D(2,2),\n",
        "        \n",
        "        tf.keras.layers.Conv2D(64, (3,3), activation = \"relu\"),\n",
        "        tf.keras.layers.MaxPooling2D(2,2),\n",
        "\n",
        "        tf.keras.layers.Conv2D(128, (3,3), activation = \"relu\"),\n",
        "        tf.keras.layers.MaxPooling2D(2,2),\n",
        "        \n",
        "        tf.keras.layers.Flatten(),\n",
        "        tf.keras.layers.Dense(256, activation = \"relu\"),\n",
        "        tf.keras.layers.Dense(256, activation = \"relu\"),\n",
        "        tf.keras.layers.Dense(1, activation = \"sigmoid\")\n",
        "    ])\n",
        "    \n",
        "    network.compile(optimizer = \"adam\", loss = \"binary_crossentropy\", metrics = [\"accuracy\"])\n",
        "    return network\n",
        "model = create_model()\n",
        "model.summary()"
      ],
      "execution_count": null,
      "outputs": [
        {
          "output_type": "stream",
          "text": [
            "Model: \"sequential_3\"\n",
            "_________________________________________________________________\n",
            "Layer (type)                 Output Shape              Param #   \n",
            "=================================================================\n",
            "conv2d_12 (Conv2D)           (None, 148, 148, 32)      896       \n",
            "_________________________________________________________________\n",
            "max_pooling2d_12 (MaxPooling (None, 74, 74, 32)        0         \n",
            "_________________________________________________________________\n",
            "conv2d_13 (Conv2D)           (None, 72, 72, 64)        18496     \n",
            "_________________________________________________________________\n",
            "max_pooling2d_13 (MaxPooling (None, 36, 36, 64)        0         \n",
            "_________________________________________________________________\n",
            "conv2d_14 (Conv2D)           (None, 34, 34, 64)        36928     \n",
            "_________________________________________________________________\n",
            "max_pooling2d_14 (MaxPooling (None, 17, 17, 64)        0         \n",
            "_________________________________________________________________\n",
            "conv2d_15 (Conv2D)           (None, 15, 15, 128)       73856     \n",
            "_________________________________________________________________\n",
            "max_pooling2d_15 (MaxPooling (None, 7, 7, 128)         0         \n",
            "_________________________________________________________________\n",
            "flatten_3 (Flatten)          (None, 6272)              0         \n",
            "_________________________________________________________________\n",
            "dense_9 (Dense)              (None, 256)               1605888   \n",
            "_________________________________________________________________\n",
            "dense_10 (Dense)             (None, 256)               65792     \n",
            "_________________________________________________________________\n",
            "dense_11 (Dense)             (None, 1)                 257       \n",
            "=================================================================\n",
            "Total params: 1,802,113\n",
            "Trainable params: 1,802,113\n",
            "Non-trainable params: 0\n",
            "_________________________________________________________________\n"
          ],
          "name": "stdout"
        }
      ]
    },
    {
      "cell_type": "code",
      "metadata": {
        "id": "6Xn9aYPZVAI-",
        "colab_type": "code",
        "colab": {
          "base_uri": "https://localhost:8080/",
          "height": 51
        },
        "outputId": "c3e60de7-c567-4165-a6fd-0318c9abbd10"
      },
      "source": [
        "train_datagen = ImageDataGenerator(rescale = 1/255,\n",
        "                                  rotation_range = 40,\n",
        "                                  width_shift_range = 0.2,\n",
        "                                  height_shift_range = 0.2,\n",
        "                                  shear_range = 0.2,\n",
        "                                  zoom_range = 0.2,\n",
        "                                  horizontal_flip = True,\n",
        "                                  fill_mode = \"nearest\")\n",
        "test_datagen = ImageDataGenerator(rescale = 1/255)\n",
        "\n",
        "train_generator = train_datagen.flow_from_directory(\n",
        "    \"/content/train_dir\",\n",
        "    target_size = (150,150),\n",
        "    batch_size = 32,\n",
        "    class_mode = \"binary\"\n",
        ")\n",
        "validation_generator = test_datagen.flow_from_directory(\n",
        "    \"/content/validation_new_dir\",\n",
        "    target_size = (150,150),\n",
        "    batch_size = 32,\n",
        "    class_mode = \"binary\"\n",
        ")"
      ],
      "execution_count": null,
      "outputs": [
        {
          "output_type": "stream",
          "text": [
            "Found 19999 images belonging to 2 classes.\n",
            "Found 5000 images belonging to 2 classes.\n"
          ],
          "name": "stdout"
        }
      ]
    },
    {
      "cell_type": "code",
      "metadata": {
        "id": "STjHsVfNVAL_",
        "colab_type": "code",
        "colab": {
          "base_uri": "https://localhost:8080/",
          "height": 1000
        },
        "outputId": "96aa97f5-2569-4bd1-9395-f19b13a8ec4d"
      },
      "source": [
        "history = model.fit_generator(\n",
        "    train_generator,\n",
        "    steps_per_epoch = 256,\n",
        "    epochs = 50,\n",
        "    validation_data = validation_generator,\n",
        "    validation_steps = 100\n",
        ")"
      ],
      "execution_count": null,
      "outputs": [
        {
          "output_type": "stream",
          "text": [
            "Epoch 1/50\n",
            "256/256 [==============================] - 61s 240ms/step - loss: 0.6701 - accuracy: 0.5865 - val_loss: 0.6862 - val_accuracy: 0.5249\n",
            "Epoch 2/50\n",
            "256/256 [==============================] - 62s 240ms/step - loss: 0.6639 - accuracy: 0.5944 - val_loss: 0.6225 - val_accuracy: 0.6528\n",
            "Epoch 3/50\n",
            "256/256 [==============================] - 62s 242ms/step - loss: 0.6441 - accuracy: 0.6337 - val_loss: 0.5900 - val_accuracy: 0.7056\n",
            "Epoch 4/50\n",
            "256/256 [==============================] - 61s 239ms/step - loss: 0.6202 - accuracy: 0.6615 - val_loss: 0.6051 - val_accuracy: 0.6675\n",
            "Epoch 5/50\n",
            "256/256 [==============================] - 61s 239ms/step - loss: 0.6001 - accuracy: 0.6772 - val_loss: 0.5661 - val_accuracy: 0.7109\n",
            "Epoch 6/50\n",
            "256/256 [==============================] - 61s 237ms/step - loss: 0.5846 - accuracy: 0.6978 - val_loss: 0.5121 - val_accuracy: 0.7539\n",
            "Epoch 7/50\n",
            "256/256 [==============================] - 61s 237ms/step - loss: 0.5622 - accuracy: 0.7121 - val_loss: 0.5333 - val_accuracy: 0.7275\n",
            "Epoch 8/50\n",
            "256/256 [==============================] - 61s 240ms/step - loss: 0.5426 - accuracy: 0.7310 - val_loss: 0.5231 - val_accuracy: 0.7354\n",
            "Epoch 9/50\n",
            "256/256 [==============================] - 61s 238ms/step - loss: 0.5357 - accuracy: 0.7342 - val_loss: 0.4699 - val_accuracy: 0.7676\n",
            "Epoch 10/50\n",
            "256/256 [==============================] - 61s 237ms/step - loss: 0.5147 - accuracy: 0.7531 - val_loss: 0.4447 - val_accuracy: 0.7900\n",
            "Epoch 11/50\n",
            "256/256 [==============================] - 61s 237ms/step - loss: 0.4996 - accuracy: 0.7579 - val_loss: 0.4555 - val_accuracy: 0.7847\n",
            "Epoch 12/50\n",
            "256/256 [==============================] - 61s 238ms/step - loss: 0.4725 - accuracy: 0.7793 - val_loss: 0.3975 - val_accuracy: 0.8154\n",
            "Epoch 13/50\n",
            "256/256 [==============================] - 62s 244ms/step - loss: 0.4685 - accuracy: 0.7797 - val_loss: 0.4680 - val_accuracy: 0.7749\n",
            "Epoch 14/50\n",
            "256/256 [==============================] - 62s 241ms/step - loss: 0.4536 - accuracy: 0.7906 - val_loss: 0.3643 - val_accuracy: 0.8394\n",
            "Epoch 15/50\n",
            "256/256 [==============================] - 61s 237ms/step - loss: 0.4424 - accuracy: 0.7926 - val_loss: 0.3939 - val_accuracy: 0.8091\n",
            "Epoch 16/50\n",
            "256/256 [==============================] - 61s 237ms/step - loss: 0.4297 - accuracy: 0.8021 - val_loss: 0.3349 - val_accuracy: 0.8516\n",
            "Epoch 17/50\n",
            "256/256 [==============================] - 61s 237ms/step - loss: 0.4325 - accuracy: 0.8018 - val_loss: 0.3853 - val_accuracy: 0.8203\n",
            "Epoch 18/50\n",
            "256/256 [==============================] - 61s 239ms/step - loss: 0.4222 - accuracy: 0.8040 - val_loss: 0.3748 - val_accuracy: 0.8398\n",
            "Epoch 19/50\n",
            "256/256 [==============================] - 61s 238ms/step - loss: 0.4123 - accuracy: 0.8058 - val_loss: 0.3821 - val_accuracy: 0.8228\n",
            "Epoch 20/50\n",
            "256/256 [==============================] - 61s 237ms/step - loss: 0.4125 - accuracy: 0.8079 - val_loss: 0.3610 - val_accuracy: 0.8364\n",
            "Epoch 21/50\n",
            "256/256 [==============================] - 61s 238ms/step - loss: 0.3978 - accuracy: 0.8198 - val_loss: 0.3176 - val_accuracy: 0.8623\n",
            "Epoch 22/50\n",
            "256/256 [==============================] - 61s 238ms/step - loss: 0.3917 - accuracy: 0.8258 - val_loss: 0.3191 - val_accuracy: 0.8647\n",
            "Epoch 23/50\n",
            "256/256 [==============================] - 61s 238ms/step - loss: 0.3800 - accuracy: 0.8315 - val_loss: 0.3477 - val_accuracy: 0.8491\n",
            "Epoch 24/50\n",
            "256/256 [==============================] - 61s 238ms/step - loss: 0.3671 - accuracy: 0.8364 - val_loss: 0.3138 - val_accuracy: 0.8599\n",
            "Epoch 25/50\n",
            "256/256 [==============================] - 61s 237ms/step - loss: 0.3717 - accuracy: 0.8364 - val_loss: 0.2888 - val_accuracy: 0.8706\n",
            "Epoch 26/50\n",
            "256/256 [==============================] - 61s 237ms/step - loss: 0.3594 - accuracy: 0.8388 - val_loss: 0.2990 - val_accuracy: 0.8779\n",
            "Epoch 27/50\n",
            "256/256 [==============================] - 61s 237ms/step - loss: 0.3587 - accuracy: 0.8377 - val_loss: 0.2869 - val_accuracy: 0.8794\n",
            "Epoch 28/50\n",
            "256/256 [==============================] - 61s 236ms/step - loss: 0.3558 - accuracy: 0.8457 - val_loss: 0.2702 - val_accuracy: 0.8750\n",
            "Epoch 29/50\n",
            "256/256 [==============================] - 61s 238ms/step - loss: 0.3538 - accuracy: 0.8406 - val_loss: 0.3040 - val_accuracy: 0.8706\n",
            "Epoch 30/50\n",
            "256/256 [==============================] - 61s 237ms/step - loss: 0.3448 - accuracy: 0.8419 - val_loss: 0.2651 - val_accuracy: 0.8804\n",
            "Epoch 31/50\n",
            "256/256 [==============================] - 61s 239ms/step - loss: 0.3388 - accuracy: 0.8501 - val_loss: 0.2569 - val_accuracy: 0.8926\n",
            "Epoch 32/50\n",
            "256/256 [==============================] - 61s 238ms/step - loss: 0.3350 - accuracy: 0.8544 - val_loss: 0.2754 - val_accuracy: 0.8774\n",
            "Epoch 33/50\n",
            "256/256 [==============================] - 61s 239ms/step - loss: 0.3238 - accuracy: 0.8594 - val_loss: 0.2673 - val_accuracy: 0.8755\n",
            "Epoch 34/50\n",
            "256/256 [==============================] - 61s 239ms/step - loss: 0.3222 - accuracy: 0.8620 - val_loss: 0.2577 - val_accuracy: 0.8926\n",
            "Epoch 35/50\n",
            "256/256 [==============================] - 61s 238ms/step - loss: 0.3172 - accuracy: 0.8644 - val_loss: 0.2612 - val_accuracy: 0.8896\n",
            "Epoch 36/50\n",
            "256/256 [==============================] - 61s 237ms/step - loss: 0.3203 - accuracy: 0.8601 - val_loss: 0.2834 - val_accuracy: 0.8774\n",
            "Epoch 37/50\n",
            "256/256 [==============================] - 61s 237ms/step - loss: 0.3199 - accuracy: 0.8614 - val_loss: 0.2884 - val_accuracy: 0.8618\n",
            "Epoch 38/50\n",
            "256/256 [==============================] - 61s 238ms/step - loss: 0.3239 - accuracy: 0.8558 - val_loss: 0.2603 - val_accuracy: 0.8950\n",
            "Epoch 39/50\n",
            "256/256 [==============================] - 61s 239ms/step - loss: 0.2999 - accuracy: 0.8697 - val_loss: 0.2321 - val_accuracy: 0.9009\n",
            "Epoch 40/50\n",
            "256/256 [==============================] - 61s 237ms/step - loss: 0.3015 - accuracy: 0.8685 - val_loss: 0.2401 - val_accuracy: 0.8931\n",
            "Epoch 41/50\n",
            "256/256 [==============================] - 61s 238ms/step - loss: 0.3119 - accuracy: 0.8602 - val_loss: 0.2321 - val_accuracy: 0.9067\n",
            "Epoch 42/50\n",
            "256/256 [==============================] - 61s 237ms/step - loss: 0.2932 - accuracy: 0.8723 - val_loss: 0.2112 - val_accuracy: 0.9131\n",
            "Epoch 43/50\n",
            "256/256 [==============================] - 61s 238ms/step - loss: 0.2912 - accuracy: 0.8748 - val_loss: 0.2475 - val_accuracy: 0.8911\n",
            "Epoch 44/50\n",
            "256/256 [==============================] - 61s 239ms/step - loss: 0.2898 - accuracy: 0.8752 - val_loss: 0.2549 - val_accuracy: 0.8989\n",
            "Epoch 45/50\n",
            "256/256 [==============================] - 61s 239ms/step - loss: 0.2864 - accuracy: 0.8802 - val_loss: 0.2565 - val_accuracy: 0.8916\n",
            "Epoch 46/50\n",
            "256/256 [==============================] - 61s 239ms/step - loss: 0.2788 - accuracy: 0.8785 - val_loss: 0.2407 - val_accuracy: 0.8960\n",
            "Epoch 47/50\n",
            "256/256 [==============================] - 61s 239ms/step - loss: 0.2875 - accuracy: 0.8762 - val_loss: 0.2640 - val_accuracy: 0.8926\n",
            "Epoch 48/50\n",
            "256/256 [==============================] - 61s 239ms/step - loss: 0.2789 - accuracy: 0.8800 - val_loss: 0.2951 - val_accuracy: 0.8687\n",
            "Epoch 49/50\n",
            "256/256 [==============================] - 64s 249ms/step - loss: 0.2841 - accuracy: 0.8778 - val_loss: 0.2672 - val_accuracy: 0.8823\n",
            "Epoch 50/50\n",
            "256/256 [==============================] - 65s 253ms/step - loss: 0.2695 - accuracy: 0.8835 - val_loss: 0.2069 - val_accuracy: 0.9146\n"
          ],
          "name": "stdout"
        }
      ]
    },
    {
      "cell_type": "code",
      "metadata": {
        "id": "6STjuIbkVRuu",
        "colab_type": "code",
        "colab": {
          "base_uri": "https://localhost:8080/",
          "height": 295
        },
        "outputId": "73a532ef-e9b1-4e9c-c5ac-4292ced1ef49"
      },
      "source": [
        "history_dict = history.history\n",
        "train_loss = history_dict[\"loss\"]\n",
        "val_loss = history_dict[\"val_loss\"]\n",
        "train_accuracy = history_dict[\"accuracy\"]\n",
        "val_accuracy = history_dict[\"val_accuracy\"]\n",
        "epochs = range(1, len(train_accuracy)+1)\n",
        "# Accuracy Curve\n",
        "plt.plot(epochs, train_accuracy, \"r\", label = \"train accuracy\")\n",
        "plt.plot(epochs, val_accuracy, \"b\", label = \"validation accuracy\")\n",
        "plt.title(\"train v validation accuracy (model 1)\")\n",
        "plt.xlabel(\"Epochs\")\n",
        "plt.ylabel(\"Accuracy\")\n",
        "plt.legend()\n",
        "plt.show()"
      ],
      "execution_count": 93,
      "outputs": [
        {
          "output_type": "display_data",
          "data": {
            "image/png": "[encoded data removed]",
            "text/plain": [
              "<Figure size 432x288 with 1 Axes>"
            ]
          },
          "metadata": {
            "tags": [],
            "needs_background": "light"
          }
        }
      ]
    },
    {
      "cell_type": "code",
      "metadata": {
        "id": "-ul330l9VRx0",
        "colab_type": "code",
        "colab": {
          "base_uri": "https://localhost:8080/",
          "height": 295
        },
        "outputId": "b7fa10e4-a7ae-437d-fd39-52d2caefbdfa"
      },
      "source": [
        "# Loss Curve\n",
        "model.save(\"cats_and_dogs.h5\")\n",
        "plt.plot(epochs, train_loss, \"r\", label = \"train loss\")\n",
        "plt.plot(epochs, val_loss, \"b\", label = \"validation loss\")\n",
        "plt.title(\"train v validation loss (model 1)\")\n",
        "plt.xlabel(\"Epochs\")\n",
        "plt.ylabel(\"Loss\")\n",
        "plt.legend()\n",
        "plt.show()"
      ],
      "execution_count": 92,
      "outputs": [
        {
          "output_type": "display_data",
          "data": {
            "image/png": "[encoded data removed]",
            "text/plain": [
              "<Figure size 432x288 with 1 Axes>"
            ]
          },
          "metadata": {
            "tags": [],
            "needs_background": "light"
          }
        }
      ]
    },
    {
      "cell_type": "code",
      "metadata": {
        "id": "WpreTqM7sWn_",
        "colab_type": "code",
        "colab": {
          "resources": {
            "http://localhost:8080/nbextensions/google.colab/files.js": {
              "data": "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",
              "ok": true,
              "headers": [
                [
                  "content-type",
                  "application/javascript"
                ]
              ],
              "status": 200,
              "status_text": ""
            }
          },
          "base_uri": "https://localhost:8080/",
          "height": 446
        },
        "outputId": "cbe560c4-f90f-430d-e697-86a7400fceea"
      },
      "source": [
        "import numpy as np\n",
        "from google.colab import files\n",
        "from keras.preprocessing import image\n",
        "\n",
        "uploaded = files.upload()\n",
        "\n",
        "for fn in uploaded.keys():\n",
        " \n",
        "  # predicting images\n",
        "  path = '/content/' + fn\n",
        "  img = image.load_img(path, target_size=(150,150))\n",
        "  x = image.img_to_array(img)\n",
        "  x = np.expand_dims(x, axis=0)\n",
        "\n",
        "  images = np.vstack([x])\n",
        "  classes = model.predict(images)\n",
        "  print(classes[0])\n",
        "  if classes[0]>0.5:\n",
        "    print(fn + \" is a dog\")\n",
        "  else:\n",
        "    print(fn + \" is a cat\")"
      ],
      "execution_count": null,
      "outputs": [
        {
          "output_type": "display_data",
          "data": {
            "text/html": [
              "\n",
              "     <input type=\"file\" id=\"files-a67466ed-cffc-44ea-88a1-847f107cbe0a\" name=\"files[]\" multiple disabled\n",
              "        style=\"border:none\" />\n",
              "     <output id=\"result-a67466ed-cffc-44ea-88a1-847f107cbe0a\">\n",
              "      Upload widget is only available when the cell has been executed in the\n",
              "      current browser session. Please rerun this cell to enable.\n",
              "      </output>\n",
              "      <script src=\"/nbextensions/google.colab/files.js\"></script> "
            ],
            "text/plain": [
              "<IPython.core.display.HTML object>"
            ]
          },
          "metadata": {
            "tags": []
          }
        },
        {
          "output_type": "stream",
          "text": [
            "Saving cat (2).jpg to cat (2).jpg\n",
            "Saving cat.jpg to cat.jpg\n",
            "Saving cat3.jpg to cat3.jpg\n",
            "Saving dog.jpg to dog.jpg\n",
            "Saving dog2.jpg to dog2.jpg\n",
            "Saving dog3.jpg to dog3.jpg\n",
            "[1.]\n",
            "cat (2).jpg is a dog\n",
            "[1.]\n",
            "cat.jpg is a dog\n",
            "[0.]\n",
            "cat3.jpg is a cat\n",
            "[1.]\n",
            "dog.jpg is a dog\n",
            "[1.]\n",
            "dog2.jpg is a dog\n",
            "[1.]\n",
            "dog3.jpg is a dog\n"
          ],
          "name": "stdout"
        }
      ]
    },
    {
      "cell_type": "markdown",
      "metadata": {
        "id": "dGph8QwHz7-a",
        "colab_type": "text"
      },
      "source": [
        "##Training a fresh model (model2) with a different batch size. "
      ]
    },
    {
      "cell_type": "code",
      "metadata": {
        "colab_type": "code",
        "id": "nzIYrC-XzB9Z",
        "colab": {
          "base_uri": "https://localhost:8080/",
          "height": 1000
        },
        "outputId": "41db5c1b-0dc7-4364-eac1-0a99575c9ddc"
      },
      "source": [
        "model2 = create_model() # using a freshly compiled model for another round of training.\n",
        "train_datagen = ImageDataGenerator(rescale = 1/255,\n",
        "                                  rotation_range = 40,\n",
        "                                  width_shift_range = 0.2,\n",
        "                                  height_shift_range = 0.2,\n",
        "                                  shear_range = 0.2,\n",
        "                                  zoom_range = 0.2,\n",
        "                                  horizontal_flip = True,\n",
        "                                  fill_mode = \"nearest\")\n",
        "test_datagen = ImageDataGenerator(rescale = 1/255)\n",
        "\n",
        "train_generator = train_datagen.flow_from_directory(\n",
        "    \"/content/train_dir\",\n",
        "    target_size = (150,150),\n",
        "    batch_size = 64,\n",
        "    class_mode = \"binary\"\n",
        ")\n",
        "validation_generator = test_datagen.flow_from_directory(\n",
        "    \"/content/validation_new_dir\",\n",
        "    target_size = (150,150),\n",
        "    batch_size = 50,\n",
        "    class_mode = \"binary\"\n",
        ")\n",
        "\n",
        "history = model2.fit_generator(\n",
        "    train_generator,\n",
        "    steps_per_epoch = 256,\n",
        "    epochs = 100,\n",
        "    validation_data = validation_generator,\n",
        "    validation_steps = 100\n",
        ")"
      ],
      "execution_count": 85,
      "outputs": [
        {
          "output_type": "stream",
          "text": [
            "Found 19999 images belonging to 2 classes.\n",
            "Found 5000 images belonging to 2 classes.\n",
            "Epoch 1/100\n",
            "256/256 [==============================] - 131s 513ms/step - loss: 0.6718 - accuracy: 0.5740 - val_loss: 0.6421 - val_accuracy: 0.6070\n",
            "Epoch 2/100\n",
            "256/256 [==============================] - 130s 509ms/step - loss: 0.6359 - accuracy: 0.6256 - val_loss: 0.5577 - val_accuracy: 0.7166\n",
            "Epoch 3/100\n",
            "256/256 [==============================] - 130s 507ms/step - loss: 0.5958 - accuracy: 0.6782 - val_loss: 0.5129 - val_accuracy: 0.7444\n",
            "Epoch 4/100\n",
            "256/256 [==============================] - 130s 509ms/step - loss: 0.5626 - accuracy: 0.7082 - val_loss: 0.5226 - val_accuracy: 0.7428\n",
            "Epoch 5/100\n",
            "256/256 [==============================] - 129s 505ms/step - loss: 0.5426 - accuracy: 0.7230 - val_loss: 0.5617 - val_accuracy: 0.7140\n",
            "Epoch 6/100\n",
            "256/256 [==============================] - 128s 501ms/step - loss: 0.5172 - accuracy: 0.7445 - val_loss: 0.4498 - val_accuracy: 0.7864\n",
            "Epoch 7/100\n",
            "256/256 [==============================] - 128s 501ms/step - loss: 0.4992 - accuracy: 0.7562 - val_loss: 0.4457 - val_accuracy: 0.7898\n",
            "Epoch 8/100\n",
            "256/256 [==============================] - 129s 502ms/step - loss: 0.4806 - accuracy: 0.7686 - val_loss: 0.4011 - val_accuracy: 0.8160\n",
            "Epoch 9/100\n",
            "256/256 [==============================] - 128s 499ms/step - loss: 0.4544 - accuracy: 0.7865 - val_loss: 0.3639 - val_accuracy: 0.8400\n",
            "Epoch 10/100\n",
            "256/256 [==============================] - 129s 502ms/step - loss: 0.4344 - accuracy: 0.7961 - val_loss: 0.3673 - val_accuracy: 0.8384\n",
            "Epoch 11/100\n",
            "256/256 [==============================] - 129s 505ms/step - loss: 0.4094 - accuracy: 0.8118 - val_loss: 0.3149 - val_accuracy: 0.8674\n",
            "Epoch 12/100\n",
            "256/256 [==============================] - 129s 503ms/step - loss: 0.3780 - accuracy: 0.8315 - val_loss: 0.3082 - val_accuracy: 0.8712\n",
            "Epoch 13/100\n",
            "256/256 [==============================] - 129s 505ms/step - loss: 0.3624 - accuracy: 0.8394 - val_loss: 0.3201 - val_accuracy: 0.8578\n",
            "Epoch 14/100\n",
            "256/256 [==============================] - 129s 502ms/step - loss: 0.3486 - accuracy: 0.8440 - val_loss: 0.2890 - val_accuracy: 0.8780\n",
            "Epoch 15/100\n",
            "256/256 [==============================] - 130s 506ms/step - loss: 0.3415 - accuracy: 0.8463 - val_loss: 0.2760 - val_accuracy: 0.8882\n",
            "Epoch 16/100\n",
            "256/256 [==============================] - 129s 506ms/step - loss: 0.3191 - accuracy: 0.8575 - val_loss: 0.2504 - val_accuracy: 0.8976\n",
            "Epoch 17/100\n",
            "256/256 [==============================] - 128s 501ms/step - loss: 0.3193 - accuracy: 0.8609 - val_loss: 0.2997 - val_accuracy: 0.8720\n",
            "Epoch 18/100\n",
            "256/256 [==============================] - 128s 501ms/step - loss: 0.3066 - accuracy: 0.8665 - val_loss: 0.2205 - val_accuracy: 0.9130\n",
            "Epoch 19/100\n",
            "256/256 [==============================] - 128s 499ms/step - loss: 0.2864 - accuracy: 0.8766 - val_loss: 0.2297 - val_accuracy: 0.9072\n",
            "Epoch 20/100\n",
            "256/256 [==============================] - 128s 498ms/step - loss: 0.2910 - accuracy: 0.8731 - val_loss: 0.2472 - val_accuracy: 0.8944\n",
            "Epoch 21/100\n",
            "256/256 [==============================] - 128s 499ms/step - loss: 0.2827 - accuracy: 0.8754 - val_loss: 0.2130 - val_accuracy: 0.9078\n",
            "Epoch 22/100\n",
            "256/256 [==============================] - 129s 503ms/step - loss: 0.2773 - accuracy: 0.8807 - val_loss: 0.2256 - val_accuracy: 0.9052\n",
            "Epoch 23/100\n",
            "256/256 [==============================] - 127s 498ms/step - loss: 0.2634 - accuracy: 0.8850 - val_loss: 0.2012 - val_accuracy: 0.9160\n",
            "Epoch 24/100\n",
            "256/256 [==============================] - 127s 496ms/step - loss: 0.2595 - accuracy: 0.8860 - val_loss: 0.1965 - val_accuracy: 0.9208\n",
            "Epoch 25/100\n",
            "256/256 [==============================] - 128s 499ms/step - loss: 0.2606 - accuracy: 0.8850 - val_loss: 0.1897 - val_accuracy: 0.9240\n",
            "Epoch 26/100\n",
            "256/256 [==============================] - 127s 496ms/step - loss: 0.2511 - accuracy: 0.8934 - val_loss: 0.1850 - val_accuracy: 0.9252\n",
            "Epoch 27/100\n",
            "256/256 [==============================] - 130s 508ms/step - loss: 0.2512 - accuracy: 0.8922 - val_loss: 0.1962 - val_accuracy: 0.9174\n",
            "Epoch 28/100\n",
            "256/256 [==============================] - 132s 517ms/step - loss: 0.2461 - accuracy: 0.8951 - val_loss: 0.1902 - val_accuracy: 0.9204\n",
            "Epoch 29/100\n",
            "256/256 [==============================] - 128s 501ms/step - loss: 0.2481 - accuracy: 0.8925 - val_loss: 0.2105 - val_accuracy: 0.9172\n",
            "Epoch 30/100\n",
            "256/256 [==============================] - 127s 495ms/step - loss: 0.2367 - accuracy: 0.8981 - val_loss: 0.1699 - val_accuracy: 0.9270\n",
            "Epoch 31/100\n",
            "256/256 [==============================] - 132s 515ms/step - loss: 0.2354 - accuracy: 0.8990 - val_loss: 0.1896 - val_accuracy: 0.9164\n",
            "Epoch 32/100\n",
            "256/256 [==============================] - 126s 490ms/step - loss: 0.2239 - accuracy: 0.9062 - val_loss: 0.2168 - val_accuracy: 0.9166\n",
            "Epoch 33/100\n",
            "256/256 [==============================] - 128s 499ms/step - loss: 0.2320 - accuracy: 0.8996 - val_loss: 0.1683 - val_accuracy: 0.9300\n",
            "Epoch 34/100\n",
            "256/256 [==============================] - 127s 496ms/step - loss: 0.2154 - accuracy: 0.9075 - val_loss: 0.1749 - val_accuracy: 0.9300\n",
            "Epoch 35/100\n",
            "256/256 [==============================] - 129s 504ms/step - loss: 0.2271 - accuracy: 0.9015 - val_loss: 0.1661 - val_accuracy: 0.9350\n",
            "Epoch 36/100\n",
            "256/256 [==============================] - 126s 492ms/step - loss: 0.2179 - accuracy: 0.9082 - val_loss: 0.1670 - val_accuracy: 0.9312\n",
            "Epoch 37/100\n",
            "256/256 [==============================] - 129s 506ms/step - loss: 0.2183 - accuracy: 0.9069 - val_loss: 0.1845 - val_accuracy: 0.9236\n",
            "Epoch 38/100\n",
            "256/256 [==============================] - 130s 506ms/step - loss: 0.2128 - accuracy: 0.9088 - val_loss: 0.1579 - val_accuracy: 0.9368\n",
            "Epoch 39/100\n",
            "256/256 [==============================] - 130s 508ms/step - loss: 0.2147 - accuracy: 0.9106 - val_loss: 0.1829 - val_accuracy: 0.9260\n",
            "Epoch 40/100\n",
            "256/256 [==============================] - 131s 512ms/step - loss: 0.2150 - accuracy: 0.9043 - val_loss: 0.1665 - val_accuracy: 0.9328\n",
            "Epoch 41/100\n",
            "256/256 [==============================] - 129s 502ms/step - loss: 0.2099 - accuracy: 0.9116 - val_loss: 0.1734 - val_accuracy: 0.9316\n",
            "Epoch 42/100\n",
            "256/256 [==============================] - 129s 504ms/step - loss: 0.2011 - accuracy: 0.9163 - val_loss: 0.1786 - val_accuracy: 0.9256\n",
            "Epoch 43/100\n",
            "256/256 [==============================] - 129s 504ms/step - loss: 0.2039 - accuracy: 0.9130 - val_loss: 0.2042 - val_accuracy: 0.9192\n",
            "Epoch 44/100\n",
            "256/256 [==============================] - 128s 499ms/step - loss: 0.2045 - accuracy: 0.9144 - val_loss: 0.1621 - val_accuracy: 0.9326\n",
            "Epoch 45/100\n",
            "256/256 [==============================] - 131s 510ms/step - loss: 0.1994 - accuracy: 0.9142 - val_loss: 0.1611 - val_accuracy: 0.9332\n",
            "Epoch 46/100\n",
            "256/256 [==============================] - 130s 507ms/step - loss: 0.1974 - accuracy: 0.9156 - val_loss: 0.1603 - val_accuracy: 0.9352\n",
            "Epoch 47/100\n",
            "256/256 [==============================] - 130s 508ms/step - loss: 0.2005 - accuracy: 0.9143 - val_loss: 0.1776 - val_accuracy: 0.9264\n",
            "Epoch 48/100\n",
            "256/256 [==============================] - 129s 504ms/step - loss: 0.1935 - accuracy: 0.9185 - val_loss: 0.2159 - val_accuracy: 0.9100\n",
            "Epoch 49/100\n",
            "256/256 [==============================] - 129s 505ms/step - loss: 0.1926 - accuracy: 0.9190 - val_loss: 0.1577 - val_accuracy: 0.9368\n",
            "Epoch 50/100\n",
            "256/256 [==============================] - 129s 505ms/step - loss: 0.1905 - accuracy: 0.9185 - val_loss: 0.1549 - val_accuracy: 0.9380\n",
            "Epoch 51/100\n",
            "256/256 [==============================] - 128s 501ms/step - loss: 0.1858 - accuracy: 0.9187 - val_loss: 0.1412 - val_accuracy: 0.9460\n",
            "Epoch 52/100\n",
            "256/256 [==============================] - 129s 502ms/step - loss: 0.1878 - accuracy: 0.9207 - val_loss: 0.1495 - val_accuracy: 0.9402\n",
            "Epoch 53/100\n",
            "256/256 [==============================] - 131s 511ms/step - loss: 0.1804 - accuracy: 0.9244 - val_loss: 0.1837 - val_accuracy: 0.9238\n",
            "Epoch 54/100\n",
            "256/256 [==============================] - 128s 502ms/step - loss: 0.1871 - accuracy: 0.9222 - val_loss: 0.1607 - val_accuracy: 0.9346\n",
            "Epoch 55/100\n",
            "256/256 [==============================] - 134s 523ms/step - loss: 0.1900 - accuracy: 0.9187 - val_loss: 0.1324 - val_accuracy: 0.9484\n",
            "Epoch 56/100\n",
            "256/256 [==============================] - 130s 508ms/step - loss: 0.1798 - accuracy: 0.9235 - val_loss: 0.1323 - val_accuracy: 0.9466\n",
            "Epoch 57/100\n",
            "256/256 [==============================] - 130s 507ms/step - loss: 0.1866 - accuracy: 0.9232 - val_loss: 0.1325 - val_accuracy: 0.9452\n",
            "Epoch 58/100\n",
            "256/256 [==============================] - 129s 506ms/step - loss: 0.1807 - accuracy: 0.9250 - val_loss: 0.1438 - val_accuracy: 0.9432\n",
            "Epoch 59/100\n",
            "256/256 [==============================] - 129s 504ms/step - loss: 0.1748 - accuracy: 0.9259 - val_loss: 0.1474 - val_accuracy: 0.9410\n",
            "Epoch 60/100\n",
            "256/256 [==============================] - 128s 498ms/step - loss: 0.1771 - accuracy: 0.9273 - val_loss: 0.1457 - val_accuracy: 0.9406\n",
            "Epoch 61/100\n",
            "256/256 [==============================] - 128s 499ms/step - loss: 0.1814 - accuracy: 0.9228 - val_loss: 0.1524 - val_accuracy: 0.9398\n",
            "Epoch 62/100\n",
            "256/256 [==============================] - 129s 505ms/step - loss: 0.1784 - accuracy: 0.9261 - val_loss: 0.1547 - val_accuracy: 0.9356\n",
            "Epoch 63/100\n",
            "256/256 [==============================] - 129s 505ms/step - loss: 0.1808 - accuracy: 0.9272 - val_loss: 0.2014 - val_accuracy: 0.9166\n",
            "Epoch 64/100\n",
            "256/256 [==============================] - 128s 502ms/step - loss: 0.1711 - accuracy: 0.9303 - val_loss: 0.1592 - val_accuracy: 0.9386\n",
            "Epoch 65/100\n",
            "256/256 [==============================] - 126s 493ms/step - loss: 0.1758 - accuracy: 0.9267 - val_loss: 0.1316 - val_accuracy: 0.9486\n",
            "Epoch 66/100\n",
            "256/256 [==============================] - 129s 504ms/step - loss: 0.1723 - accuracy: 0.9292 - val_loss: 0.1530 - val_accuracy: 0.9374\n",
            "Epoch 67/100\n",
            "256/256 [==============================] - 129s 505ms/step - loss: 0.1703 - accuracy: 0.9313 - val_loss: 0.1483 - val_accuracy: 0.9396\n",
            "Epoch 68/100\n",
            "256/256 [==============================] - 129s 505ms/step - loss: 0.1664 - accuracy: 0.9298 - val_loss: 0.1742 - val_accuracy: 0.9390\n",
            "Epoch 69/100\n",
            "256/256 [==============================] - 129s 504ms/step - loss: 0.1715 - accuracy: 0.9277 - val_loss: 0.1486 - val_accuracy: 0.9400\n",
            "Epoch 70/100\n",
            "256/256 [==============================] - 129s 503ms/step - loss: 0.1645 - accuracy: 0.9310 - val_loss: 0.1800 - val_accuracy: 0.9328\n",
            "Epoch 71/100\n",
            "256/256 [==============================] - 130s 507ms/step - loss: 0.1649 - accuracy: 0.9343 - val_loss: 0.1350 - val_accuracy: 0.9474\n",
            "Epoch 72/100\n",
            "256/256 [==============================] - 130s 509ms/step - loss: 0.1674 - accuracy: 0.9308 - val_loss: 0.1308 - val_accuracy: 0.9492\n",
            "Epoch 73/100\n",
            "256/256 [==============================] - 130s 508ms/step - loss: 0.1702 - accuracy: 0.9275 - val_loss: 0.1272 - val_accuracy: 0.9502\n",
            "Epoch 74/100\n",
            "256/256 [==============================] - 130s 508ms/step - loss: 0.1684 - accuracy: 0.9289 - val_loss: 0.1337 - val_accuracy: 0.9466\n",
            "Epoch 75/100\n",
            "256/256 [==============================] - 128s 499ms/step - loss: 0.1655 - accuracy: 0.9317 - val_loss: 0.1361 - val_accuracy: 0.9456\n",
            "Epoch 76/100\n",
            "256/256 [==============================] - 130s 509ms/step - loss: 0.1560 - accuracy: 0.9365 - val_loss: 0.1642 - val_accuracy: 0.9362\n",
            "Epoch 77/100\n",
            "256/256 [==============================] - 131s 511ms/step - loss: 0.1598 - accuracy: 0.9354 - val_loss: 0.1193 - val_accuracy: 0.9550\n",
            "Epoch 78/100\n",
            "256/256 [==============================] - 131s 512ms/step - loss: 0.1633 - accuracy: 0.9320 - val_loss: 0.1349 - val_accuracy: 0.9452\n",
            "Epoch 79/100\n",
            "256/256 [==============================] - 132s 514ms/step - loss: 0.1580 - accuracy: 0.9350 - val_loss: 0.1504 - val_accuracy: 0.9420\n",
            "Epoch 80/100\n",
            "256/256 [==============================] - 131s 510ms/step - loss: 0.1592 - accuracy: 0.9356 - val_loss: 0.1282 - val_accuracy: 0.9464\n",
            "Epoch 81/100\n",
            "256/256 [==============================] - 132s 514ms/step - loss: 0.1593 - accuracy: 0.9337 - val_loss: 0.1326 - val_accuracy: 0.9498\n",
            "Epoch 82/100\n",
            "256/256 [==============================] - 131s 511ms/step - loss: 0.1524 - accuracy: 0.9373 - val_loss: 0.1264 - val_accuracy: 0.9486\n",
            "Epoch 83/100\n",
            "256/256 [==============================] - 131s 511ms/step - loss: 0.1504 - accuracy: 0.9384 - val_loss: 0.1203 - val_accuracy: 0.9542\n",
            "Epoch 84/100\n",
            "256/256 [==============================] - 130s 506ms/step - loss: 0.1539 - accuracy: 0.9364 - val_loss: 0.1519 - val_accuracy: 0.9394\n",
            "Epoch 85/100\n",
            "256/256 [==============================] - 130s 508ms/step - loss: 0.1542 - accuracy: 0.9350 - val_loss: 0.1292 - val_accuracy: 0.9514\n",
            "Epoch 86/100\n",
            "256/256 [==============================] - 128s 502ms/step - loss: 0.1542 - accuracy: 0.9367 - val_loss: 0.1495 - val_accuracy: 0.9368\n",
            "Epoch 87/100\n",
            "256/256 [==============================] - 127s 496ms/step - loss: 0.1533 - accuracy: 0.9369 - val_loss: 0.1324 - val_accuracy: 0.9492\n",
            "Epoch 88/100\n",
            "256/256 [==============================] - 127s 497ms/step - loss: 0.1553 - accuracy: 0.9349 - val_loss: 0.1275 - val_accuracy: 0.9496\n",
            "Epoch 89/100\n",
            "256/256 [==============================] - 127s 496ms/step - loss: 0.1500 - accuracy: 0.9366 - val_loss: 0.1193 - val_accuracy: 0.9540\n",
            "Epoch 90/100\n",
            "256/256 [==============================] - 127s 495ms/step - loss: 0.1536 - accuracy: 0.9373 - val_loss: 0.1214 - val_accuracy: 0.9532\n",
            "Epoch 91/100\n",
            "256/256 [==============================] - 126s 490ms/step - loss: 0.1495 - accuracy: 0.9386 - val_loss: 0.1346 - val_accuracy: 0.9440\n",
            "Epoch 92/100\n",
            "256/256 [==============================] - 127s 498ms/step - loss: 0.1511 - accuracy: 0.9385 - val_loss: 0.1881 - val_accuracy: 0.9294\n",
            "Epoch 93/100\n",
            "256/256 [==============================] - 127s 496ms/step - loss: 0.1451 - accuracy: 0.9412 - val_loss: 0.1295 - val_accuracy: 0.9516\n",
            "Epoch 94/100\n",
            "256/256 [==============================] - 128s 499ms/step - loss: 0.1545 - accuracy: 0.9357 - val_loss: 0.1252 - val_accuracy: 0.9482\n",
            "Epoch 95/100\n",
            "256/256 [==============================] - 128s 500ms/step - loss: 0.1469 - accuracy: 0.9391 - val_loss: 0.1307 - val_accuracy: 0.9484\n",
            "Epoch 96/100\n",
            "256/256 [==============================] - 128s 499ms/step - loss: 0.1486 - accuracy: 0.9390 - val_loss: 0.1310 - val_accuracy: 0.9456\n",
            "Epoch 97/100\n",
            "256/256 [==============================] - 128s 501ms/step - loss: 0.1494 - accuracy: 0.9376 - val_loss: 0.1265 - val_accuracy: 0.9490\n",
            "Epoch 98/100\n",
            "256/256 [==============================] - 129s 505ms/step - loss: 0.1503 - accuracy: 0.9362 - val_loss: 0.1383 - val_accuracy: 0.9406\n",
            "Epoch 99/100\n",
            "256/256 [==============================] - 129s 505ms/step - loss: 0.1487 - accuracy: 0.9380 - val_loss: 0.1211 - val_accuracy: 0.9538\n",
            "Epoch 100/100\n",
            "256/256 [==============================] - 130s 509ms/step - loss: 0.1429 - accuracy: 0.9408 - val_loss: 0.1169 - val_accuracy: 0.9540\n"
          ],
          "name": "stdout"
        }
      ]
    },
    {
      "cell_type": "code",
      "metadata": {
        "id": "DycuBlW_yt3K",
        "colab_type": "code",
        "colab": {
          "base_uri": "https://localhost:8080/",
          "height": 295
        },
        "outputId": "dec72139-8791-4444-d42c-e5462ae42a5d"
      },
      "source": [
        "history_dict = history.history\n",
        "train_loss = history_dict[\"loss\"]\n",
        "val_loss = history_dict[\"val_loss\"]\n",
        "train_accuracy = history_dict[\"accuracy\"]\n",
        "val_accuracy = history_dict[\"val_accuracy\"]\n",
        "epochs = range(1, len(train_accuracy)+1)\n",
        "# Accuracy Curve\n",
        "plt.plot(epochs, train_accuracy, \"r\", label = \"train accuracy\")\n",
        "plt.plot(epochs, val_accuracy, \"b\", label = \"validation accuracy\")\n",
        "plt.title(\"train v validation accuracy (Model 1)\")\n",
        "plt.xlabel(\"Epochs\")\n",
        "plt.ylabel(\"Accuracy\")\n",
        "plt.legend()\n",
        "plt.show()"
      ],
      "execution_count": 91,
      "outputs": [
        {
          "output_type": "display_data",
          "data": {
            "image/png": "[encoded data removed]",
            "text/plain": [
              "<Figure size 432x288 with 1 Axes>"
            ]
          },
          "metadata": {
            "tags": [],
            "needs_background": "light"
          }
        }
      ]
    },
    {
      "cell_type": "code",
      "metadata": {
        "id": "kkDHt9rT1BAT",
        "colab_type": "code",
        "colab": {
          "base_uri": "https://localhost:8080/",
          "height": 295
        },
        "outputId": "54180a14-4543-455c-9bb8-9a76fb82bcbf"
      },
      "source": [
        "# Loss Curve\n",
        "model.save(\"cats_and_dogs_v2.h5\")\n",
        "plt.plot(epochs, train_loss, \"r\", label = \"train loss\")\n",
        "plt.plot(epochs, val_loss, \"b\", label = \"validation loss\")\n",
        "plt.title(\"train v validation loss(Model 2)\")\n",
        "plt.xlabel(\"Epochs\")\n",
        "plt.ylabel(\"Loss\")\n",
        "plt.legend()\n",
        "plt.show()"
      ],
      "execution_count": 90,
      "outputs": [
        {
          "output_type": "display_data",
          "data": {
            "image/png": "[encoded data removed]",
            "text/plain": [
              "<Figure size 432x288 with 1 Axes>"
            ]
          },
          "metadata": {
            "tags": [],
            "needs_background": "light"
          }
        }
      ]
    },
    {
      "cell_type": "code",
      "metadata": {
        "id": "RLz7HXhZoK9Q",
        "colab_type": "code",
        "colab": {
          "resources": {
            "http://localhost:8080/nbextensions/google.colab/files.js": {
              "data": "Ly8gQ29weXJpZ2h0IDIwMTcgR29vZ2xlIExMQwovLwovLyBMaWNlbnNlZCB1bmRlciB0aGUgQXBhY2hlIExpY2Vuc2UsIFZlcnNpb24gMi4wICh0aGUgIkxpY2Vuc2UiKTsKLy8geW91IG1heSBub3QgdXNlIHRoaXMgZmlsZSBleGNlcHQgaW4gY29tcGxpYW5jZSB3aXRoIHRoZSBMaWNlbnNlLgovLyBZb3UgbWF5IG9idGFpbiBhIGNvcHkgb2YgdGhlIExpY2Vuc2UgYXQKLy8KLy8gICAgICBodHRwOi8vd3d3LmFwYWNoZS5vcmcvbGljZW5zZXMvTElDRU5TRS0yLjAKLy8KLy8gVW5sZXNzIHJlcXVpcmVkIGJ5IGFwcGxpY2FibGUgbGF3IG9yIGFncmVlZCB0byBpbiB3cml0aW5nLCBzb2Z0d2FyZQovLyBkaXN0cmlidXRlZCB1bmRlciB0aGUgTGljZW5zZSBpcyBkaXN0cmlidXRlZCBvbiBhbiAiQVMgSVMiIEJBU0lTLAovLyBXSVRIT1VUIFdBUlJBTlRJRVMgT1IgQ09ORElUSU9OUyBPRiBBTlkgS0lORCwgZWl0aGVyIGV4cHJlc3Mgb3IgaW1wbGllZC4KLy8gU2VlIHRoZSBMaWNlbnNlIGZvciB0aGUgc3BlY2lmaWMgbGFuZ3VhZ2UgZ292ZXJuaW5nIHBlcm1pc3Npb25zIGFuZAovLyBsaW1pdGF0aW9ucyB1bmRlciB0aGUgTGljZW5zZS4KCi8qKgogKiBAZmlsZW92ZXJ2aWV3IEhlbHBlcnMgZm9yIGdvb2dsZS5jb2xhYiBQeXRob24gbW9kdWxlLgogKi8KKGZ1bmN0aW9uKHNjb3BlKSB7CmZ1bmN0aW9uIHNwYW4odGV4dCwgc3R5bGVBdHRyaWJ1dGVzID0ge30pIHsKICBjb25zdCBlbGVtZW50ID0gZG9jdW1lbnQuY3JlYXRlRWxlbWVudCgnc3BhbicpOwogIGVsZW1lbnQudGV4dENvbnRlbnQgPSB0ZXh0OwogIGZvciAoY29uc3Qga2V5IG9mIE9iamVjdC5rZXlzKHN0eWxlQXR0cmlidXRlcykpIHsKICAgIGVsZW1lbnQuc3R5bGVba2V5XSA9IHN0eWxlQXR0cmlidXRlc1trZXldOwogIH0KICByZXR1cm4gZWxlbWVudDsKfQoKLy8gTWF4IG51bWJlciBvZiBieXRlcyB3aGljaCB3aWxsIGJlIHVwbG9hZGVkIGF0IGEgdGltZS4KY29uc3QgTUFYX1BBWUxPQURfU0laRSA9IDEwMCAqIDEwMjQ7CgpmdW5jdGlvbiBfdXBsb2FkRmlsZXMoaW5wdXRJZCwgb3V0cHV0SWQpIHsKICBjb25zdCBzdGVwcyA9IHVwbG9hZEZpbGVzU3RlcChpbnB1dElkLCBvdXRwdXRJZCk7CiAgY29uc3Qgb3V0cHV0RWxlbWVudCA9IGRvY3VtZW50LmdldEVsZW1lbnRCeUlkKG91dHB1dElkKTsKICAvLyBDYWNoZSBzdGVwcyBvbiB0aGUgb3V0cHV0RWxlbWVudCB0byBtYWtlIGl0IGF2YWlsYWJsZSBmb3IgdGhlIG5leHQgY2FsbAogIC8vIHRvIHVwbG9hZEZpbGVzQ29udGludWUgZnJvbSBQeXRob24uCiAgb3V0cHV0RWxlbWVudC5zdGVwcyA9IHN0ZXBzOwoKICByZXR1cm4gX3VwbG9hZEZpbGVzQ29udGludWUob3V0cHV0SWQpOwp9CgovLyBUaGlzIGlzIHJvdWdobHkgYW4gYXN5bmMgZ2VuZXJhdG9yIChub3Qgc3VwcG9ydGVkIGluIHRoZSBicm93c2VyIHlldCksCi8vIHdoZXJlIHRoZXJlIGFyZSBtdWx0aXBsZSBhc3luY2hyb25vdXMgc3RlcHMgYW5kIHRoZSBQeXRob24gc2lkZSBpcyBnb2luZwovLyB0byBwb2xsIGZvciBjb21wbGV0aW9uIG9mIGVhY2ggc3RlcC4KLy8gVGhpcyB1c2VzIGEgUHJvbWlzZSB0byBibG9jayB0aGUgcHl0aG9uIHNpZGUgb24gY29tcGxldGlvbiBvZiBlYWNoIHN0ZXAsCi8vIHRoZW4gcGFzc2VzIHRoZSByZXN1bHQgb2YgdGhlIHByZXZpb3VzIHN0ZXAgYXMgdGhlIGlucHV0IHRvIHRoZSBuZXh0IHN0ZXAuCmZ1bmN0aW9uIF91cGxvYWRGaWxlc0NvbnRpbnVlKG91dHB1dElkKSB7CiAgY29uc3Qgb3V0cHV0RWxlbWVudCA9IGRvY3VtZW50LmdldEVsZW1lbnRCeUlkKG91dHB1dElkKTsKICBjb25zdCBzdGVwcyA9IG91dHB1dEVsZW1lbnQuc3RlcHM7CgogIGNvbnN0IG5leHQgPSBzdGVwcy5uZXh0KG91dHB1dEVsZW1lbnQubGFzdFByb21pc2VWYWx1ZSk7CiAgcmV0dXJuIFByb21pc2UucmVzb2x2ZShuZXh0LnZhbHVlLnByb21pc2UpLnRoZW4oKHZhbHVlKSA9PiB7CiAgICAvLyBDYWNoZSB0aGUgbGFzdCBwcm9taXNlIHZhbHVlIHRvIG1ha2UgaXQgYXZhaWxhYmxlIHRvIHRoZSBuZXh0CiAgICAvLyBzdGVwIG9mIHRoZSBnZW5lcmF0b3IuCiAgICBvdXRwdXRFbGVtZW50Lmxhc3RQcm9taXNlVmFsdWUgPSB2YWx1ZTsKICAgIHJldHVybiBuZXh0LnZhbHVlLnJlc3BvbnNlOwogIH0pOwp9CgovKioKICogR2VuZXJhdG9yIGZ1bmN0aW9uIHdoaWNoIGlzIGNhbGxlZCBiZXR3ZWVuIGVhY2ggYXN5bmMgc3RlcCBvZiB0aGUgdXBsb2FkCiAqIHByb2Nlc3MuCiAqIEBwYXJhbSB7c3RyaW5nfSBpbnB1dElkIEVsZW1lbnQgSUQgb2YgdGhlIGlucHV0IGZpbGUgcGlja2VyIGVsZW1lbnQuCiAqIEBwYXJhbSB7c3RyaW5nfSBvdXRwdXRJZCBFbGVtZW50IElEIG9mIHRoZSBvdXRwdXQgZGlzcGxheS4KICogQHJldHVybiB7IUl0ZXJhYmxlPCFPYmplY3Q+fSBJdGVyYWJsZSBvZiBuZXh0IHN0ZXBzLgogKi8KZnVuY3Rpb24qIHVwbG9hZEZpbGVzU3RlcChpbnB1dElkLCBvdXRwdXRJZCkgewogIGNvbnN0IGlucHV0RWxlbWVudCA9IGRvY3VtZW50LmdldEVsZW1lbnRCeUlkKGlucHV0SWQpOwogIGlucHV0RWxlbWVudC5kaXNhYmxlZCA9IGZhbHNlOwoKICBjb25zdCBvdXRwdXRFbGVtZW50ID0gZG9jdW1lbnQuZ2V0RWxlbWVudEJ5SWQob3V0cHV0SWQpOwogIG91dHB1dEVsZW1lbnQuaW5uZXJIVE1MID0gJyc7CgogIGNvbnN0IHBpY2tlZFByb21pc2UgPSBuZXcgUHJvbWlzZSgocmVzb2x2ZSkgPT4gewogICAgaW5wdXRFbGVtZW50LmFkZEV2ZW50TGlzdGVuZXIoJ2NoYW5nZScsIChlKSA9PiB7CiAgICAgIHJlc29sdmUoZS50YXJnZXQuZmlsZXMpOwogICAgfSk7CiAgfSk7CgogIGNvbnN0IGNhbmNlbCA9IGRvY3VtZW50LmNyZWF0ZUVsZW1lbnQoJ2J1dHRvbicpOwogIGlucHV0RWxlbWVudC5wYXJlbnRFbGVtZW50LmFwcGVuZENoaWxkKGNhbmNlbCk7CiAgY2FuY2VsLnRleHRDb250ZW50ID0gJ0NhbmNlbCB1cGxvYWQnOwogIGNvbnN0IGNhbmNlbFByb21pc2UgPSBuZXcgUHJvbWlzZSgocmVzb2x2ZSkgPT4gewogICAgY2FuY2VsLm9uY2xpY2sgPSAoKSA9PiB7CiAgICAgIHJlc29sdmUobnVsbCk7CiAgICB9OwogIH0pOwoKICAvLyBXYWl0IGZvciB0aGUgdXNlciB0byBwaWNrIHRoZSBmaWxlcy4KICBjb25zdCBmaWxlcyA9IHlpZWxkIHsKICAgIHByb21pc2U6IFByb21pc2UucmFjZShbcGlja2VkUHJvbWlzZSwgY2FuY2VsUHJvbWlzZV0pLAogICAgcmVzcG9uc2U6IHsKICAgICAgYWN0aW9uOiAnc3RhcnRpbmcnLAogICAgfQogIH07CgogIGNhbmNlbC5yZW1vdmUoKTsKCiAgLy8gRGlzYWJsZSB0aGUgaW5wdXQgZWxlbWVudCBzaW5jZSBmdXJ0aGVyIHBpY2tzIGFyZSBub3QgYWxsb3dlZC4KICBpbnB1dEVsZW1lbnQuZGlzYWJsZWQgPSB0cnVlOwoKICBpZiAoIWZpbGVzKSB7CiAgICByZXR1cm4gewogICAgICByZXNwb25zZTogewogICAgICAgIGFjdGlvbjogJ2NvbXBsZXRlJywKICAgICAgfQogICAgfTsKICB9CgogIGZvciAoY29uc3QgZmlsZSBvZiBmaWxlcykgewogICAgY29uc3QgbGkgPSBkb2N1bWVudC5jcmVhdGVFbGVtZW50KCdsaScpOwogICAgbGkuYXBwZW5kKHNwYW4oZmlsZS5uYW1lLCB7Zm9udFdlaWdodDogJ2JvbGQnfSkpOwogICAgbGkuYXBwZW5kKHNwYW4oCiAgICAgICAgYCgke2ZpbGUudHlwZSB8fCAnbi9hJ30pIC0gJHtmaWxlLnNpemV9IGJ5dGVzLCBgICsKICAgICAgICBgbGFzdCBtb2RpZmllZDogJHsKICAgICAgICAgICAgZmlsZS5sYXN0TW9kaWZpZWREYXRlID8gZmlsZS5sYXN0TW9kaWZpZWREYXRlLnRvTG9jYWxlRGF0ZVN0cmluZygpIDoKICAgICAgICAgICAgICAgICAgICAgICAgICAgICAgICAgICAgJ24vYSd9IC0gYCkpOwogICAgY29uc3QgcGVyY2VudCA9IHNwYW4oJzAlIGRvbmUnKTsKICAgIGxpLmFwcGVuZENoaWxkKHBlcmNlbnQpOwoKICAgIG91dHB1dEVsZW1lbnQuYXBwZW5kQ2hpbGQobGkpOwoKICAgIGNvbnN0IGZpbGVEYXRhUHJvbWlzZSA9IG5ldyBQcm9taXNlKChyZXNvbHZlKSA9PiB7CiAgICAgIGNvbnN0IHJlYWRlciA9IG5ldyBGaWxlUmVhZGVyKCk7CiAgICAgIHJlYWRlci5vbmxvYWQgPSAoZSkgPT4gewogICAgICAgIHJlc29sdmUoZS50YXJnZXQucmVzdWx0KTsKICAgICAgfTsKICAgICAgcmVhZGVyLnJlYWRBc0FycmF5QnVmZmVyKGZpbGUpOwogICAgfSk7CiAgICAvLyBXYWl0IGZvciB0aGUgZGF0YSB0byBiZSByZWFkeS4KICAgIGxldCBmaWxlRGF0YSA9IHlpZWxkIHsKICAgICAgcHJvbWlzZTogZmlsZURhdGFQcm9taXNlLAogICAgICByZXNwb25zZTogewogICAgICAgIGFjdGlvbjogJ2NvbnRpbnVlJywKICAgICAgfQogICAgfTsKCiAgICAvLyBVc2UgYSBjaHVua2VkIHNlbmRpbmcgdG8gYXZvaWQgbWVzc2FnZSBzaXplIGxpbWl0cy4gU2VlIGIvNjIxMTU2NjAuCiAgICBsZXQgcG9zaXRpb24gPSAwOwogICAgd2hpbGUgKHBvc2l0aW9uIDwgZmlsZURhdGEuYnl0ZUxlbmd0aCkgewogICAgICBjb25zdCBsZW5ndGggPSBNYXRoLm1pbihmaWxlRGF0YS5ieXRlTGVuZ3RoIC0gcG9zaXRpb24sIE1BWF9QQVlMT0FEX1NJWkUpOwogICAgICBjb25zdCBjaHVuayA9IG5ldyBVaW50OEFycmF5KGZpbGVEYXRhLCBwb3NpdGlvbiwgbGVuZ3RoKTsKICAgICAgcG9zaXRpb24gKz0gbGVuZ3RoOwoKICAgICAgY29uc3QgYmFzZTY0ID0gYnRvYShTdHJpbmcuZnJvbUNoYXJDb2RlLmFwcGx5KG51bGwsIGNodW5rKSk7CiAgICAgIHlpZWxkIHsKICAgICAgICByZXNwb25zZTogewogICAgICAgICAgYWN0aW9uOiAnYXBwZW5kJywKICAgICAgICAgIGZpbGU6IGZpbGUubmFtZSwKICAgICAgICAgIGRhdGE6IGJhc2U2NCwKICAgICAgICB9LAogICAgICB9OwogICAgICBwZXJjZW50LnRleHRDb250ZW50ID0KICAgICAgICAgIGAke01hdGgucm91bmQoKHBvc2l0aW9uIC8gZmlsZURhdGEuYnl0ZUxlbmd0aCkgKiAxMDApfSUgZG9uZWA7CiAgICB9CiAgfQoKICAvLyBBbGwgZG9uZS4KICB5aWVsZCB7CiAgICByZXNwb25zZTogewogICAgICBhY3Rpb246ICdjb21wbGV0ZScsCiAgICB9CiAgfTsKfQoKc2NvcGUuZ29vZ2xlID0gc2NvcGUuZ29vZ2xlIHx8IHt9OwpzY29wZS5nb29nbGUuY29sYWIgPSBzY29wZS5nb29nbGUuY29sYWIgfHwge307CnNjb3BlLmdvb2dsZS5jb2xhYi5fZmlsZXMgPSB7CiAgX3VwbG9hZEZpbGVzLAogIF91cGxvYWRGaWxlc0NvbnRpbnVlLAp9Owp9KShzZWxmKTsK",
              "ok": true,
              "headers": [
                [
                  "content-type",
                  "application/javascript"
                ]
              ],
              "status": 200,
              "status_text": ""
            }
          },
          "base_uri": "https://localhost:8080/",
          "height": 446
        },
        "outputId": "ec307d86-05ec-4e75-ebf9-3bd18f69e195"
      },
      "source": [
        "uploaded = files.upload()\n",
        "\n",
        "for fn in uploaded.keys():\n",
        " \n",
        "  # predicting images\n",
        "  path = '/content/' + fn\n",
        "  img = image.load_img(path, target_size=(150,150))\n",
        "  x = image.img_to_array(img)\n",
        "  x = np.expand_dims(x, axis=0)\n",
        "\n",
        "  images = np.vstack([x])\n",
        "  classes = model2.predict(images)\n",
        "  print(classes[0])\n",
        "  if classes[0]>0.5:\n",
        "    print(fn + \" is a dog\")\n",
        "  else:\n",
        "    print(fn + \" is a cat\")"
      ],
      "execution_count": 89,
      "outputs": [
        {
          "output_type": "display_data",
          "data": {
            "text/html": [
              "\n",
              "     <input type=\"file\" id=\"files-e5ba90a8-35c0-4df0-bc89-764f8e106eac\" name=\"files[]\" multiple disabled\n",
              "        style=\"border:none\" />\n",
              "     <output id=\"result-e5ba90a8-35c0-4df0-bc89-764f8e106eac\">\n",
              "      Upload widget is only available when the cell has been executed in the\n",
              "      current browser session. Please rerun this cell to enable.\n",
              "      </output>\n",
              "      <script src=\"/nbextensions/google.colab/files.js\"></script> "
            ],
            "text/plain": [
              "<IPython.core.display.HTML object>"
            ]
          },
          "metadata": {
            "tags": []
          }
        },
        {
          "output_type": "stream",
          "text": [
            "Saving cat (2).jpg to cat (2) (2).jpg\n",
            "Saving cat.jpg to cat (3).jpg\n",
            "Saving cat3.jpg to cat3 (2).jpg\n",
            "Saving dog.jpg to dog (2).jpg\n",
            "Saving dog2.jpg to dog2 (2).jpg\n",
            "Saving dog3.jpg to dog3 (2).jpg\n",
            "[1.]\n",
            "cat (2).jpg is a dog\n",
            "[3.0173208e-09]\n",
            "cat.jpg is a cat\n",
            "[0.]\n",
            "cat3.jpg is a cat\n",
            "[1.]\n",
            "dog.jpg is a dog\n",
            "[1.]\n",
            "dog2.jpg is a dog\n",
            "[1.]\n",
            "dog3.jpg is a dog\n"
          ],
          "name": "stdout"
        }
      ]
    }
  ]
}